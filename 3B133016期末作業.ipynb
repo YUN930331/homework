{
  "nbformat": 4,
  "nbformat_minor": 0,
  "metadata": {
    "colab": {
      "provenance": [],
      "authorship_tag": "ABX9TyNquuYGazWdgu64xgMJ9aoq",
      "include_colab_link": true
    },
    "kernelspec": {
      "name": "python3",
      "display_name": "Python 3"
    },
    "language_info": {
      "name": "python"
    }
  },
  "cells": [
    {
      "cell_type": "markdown",
      "metadata": {
        "id": "view-in-github",
        "colab_type": "text"
      },
      "source": [
        "<a href=\"https://colab.research.google.com/github/YUN930331/homework/blob/main/3B133016%E6%9C%9F%E6%9C%AB%E4%BD%9C%E6%A5%AD.ipynb\" target=\"_parent\"><img src=\"https://colab.research.google.com/assets/colab-badge.svg\" alt=\"Open In Colab\"/></a>"
      ]
    },
    {
      "cell_type": "code",
      "execution_count": 2,
      "metadata": {
        "id": "GgWWkGX8jd2a"
      },
      "outputs": [],
      "source": [
        "class City:\n",
        "    def __init__(self, name, coordinates, accommodation_cost):\n",
        "        self.name = name\n",
        "        self.coordinates = coordinates\n",
        "        self.accommodation_cost = accommodation_cost\n",
        "\n",
        "    def calculate_discounted_cost(self, previous_city):\n",
        "        if previous_city is None:\n",
        "            return self.accommodation_cost\n",
        "        elif previous_city.name in ['C', 'G'] and self.name == 'A':\n",
        "            return self.accommodation_cost * 0.8\n",
        "        elif previous_city.name in ['D', 'E'] and self.name == 'B':\n",
        "            return self.accommodation_cost * 0.8\n",
        "        elif previous_city.name in ['A', 'C'] and self.name == 'F':\n",
        "            return self.accommodation_cost * 0.8\n",
        "        elif previous_city.name in ['E', 'F'] and self.name == 'G':\n",
        "            return self.accommodation_cost * 0.8\n",
        "        else:\n",
        "            return self.accommodation_cost\n",
        "\n",
        "# 建立七座城市的物件\n",
        "city_A = City('A', (0, 0), 2000)\n",
        "city_B = City('B', (0, 120), 2400)\n",
        "city_C = City('C', (30, 100), 2400)\n",
        "city_D = City('D', (80, 0), 1600)\n",
        "city_E = City('E', (45, 10), 1500)\n",
        "city_F = City('F', (90, 160), 2200)\n",
        "city_G = City('G', (120, 200), 1200)\n",
        "\n",
        "# 計算食宿優惠費用\n",
        "def calculate_discounted_cost(city, previous_city):\n",
        "    return city.calculate_discounted_cost(previous_city)"
      ]
    },
    {
      "cell_type": "code",
      "source": [
        "def find_cheapest_tour(start_city):\n",
        "    cities = [city_A, city_B, city_C, city_D, city_E, city_F, city_G]\n",
        "    unvisited_cities = cities[:]\n",
        "    unvisited_cities.remove(start_city)\n",
        "\n",
        "    current_city = start_city\n",
        "    tour = [current_city]\n",
        "    total_cost = 0\n",
        "\n",
        "    while unvisited_cities:\n",
        "        nearest_city = min(unvisited_cities, key=lambda city: calculate_distance(current_city, city))\n",
        "        total_cost += calculate_distance(current_city, nearest_city) * 100  # 油錢費用\n",
        "        total_cost += calculate_discounted_cost(nearest_city, current_city)  # 食宿費用\n",
        "        current_city = nearest_city\n",
        "        unvisited_cities.remove(nearest_city)\n",
        "        tour.append(current_city)\n",
        "\n",
        "    # 回到起點的費用\n",
        "    total_cost += calculate_distance(current_city, start_city) * 100\n",
        "    total_cost += calculate_discounted_cost(start_city, current_city)\n",
        "\n",
        "    return tour, total_cost\n",
        "\n",
        "# 計算兩個城市之間的距離（直線距離）\n",
        "def calculate_distance(city1, city2):\n",
        "    x1, y1 = city1.coordinates\n",
        "    x2, y2 = city2.coordinates\n",
        "    return ((x2 - x1) ** 2 + (y2 - y1) ** 2) ** 0.5\n",
        "\n",
        "# 使用最鄰近鄰居算法找到最便宜的旅遊方案\n",
        "start_city = city_A  # 假設出發城市為A\n",
        "cheapest_tour, cheapest_cost = find_cheapest_tour(start_city)\n",
        "\n",
        "# 輸出結果\n",
        "print(\"旅遊順序:\", [city.name for city in cheapest_tour])\n",
        "print(\"總花費:\", cheapest_cost)"
      ],
      "metadata": {
        "colab": {
          "base_uri": "https://localhost:8080/"
        },
        "id": "fX5b0pQljkEl",
        "outputId": "1d8a6e0e-e32e-4da8-d1b4-39f16e51a1ad"
      },
      "execution_count": 3,
      "outputs": [
        {
          "output_type": "stream",
          "name": "stdout",
          "text": [
            "旅遊順序: ['A', 'E', 'D', 'C', 'B', 'F', 'G']\n",
            "總花費: 73868.38371742694\n"
          ]
        }
      ]
    }
  ]
}